{
 "cells": [
  {
   "cell_type": "code",
   "execution_count": 222,
   "metadata": {},
   "outputs": [],
   "source": [
    "import pandas as pd\n",
    "import numpy as np\n",
    "import random\n",
    "import math"
   ]
  },
  {
   "cell_type": "code",
   "execution_count": 227,
   "metadata": {},
   "outputs": [],
   "source": [
    "class ClassImbalance:\n",
    "    def __init__(self):\n",
    "        return\n",
    "\n",
    "#     def read_data(self, filepath):\n",
    "#         colums = [\"Sex\",\"Length\",\"Diameter\", \"Height\", \"Whole_weight\", \"Shucked_weight\", \"Viscera_weight\", \n",
    "#                     \"Shell_weight\", \"Class\"]\n",
    "#         data = pd.read_csv(filepath, names=colums)\n",
    "#         data = pd.DataFrame(data)\n",
    "#         self.data = data\n",
    "#         return\n",
    "\n",
    "#     def pre_process(self):\n",
    "#         #check for imbalance\n",
    "\n",
    "#         label = self.data[\"Class\"]\n",
    "#         features = self.data.drop([\"Class\"], axis=1)\n",
    "    \n",
    "#         print(\"Label length: \", len(label))\n",
    "\n",
    "#         positive_label = len(label.loc[label != \"negative\"])\n",
    "#         negative_label = len(label.loc[label == \"negative\"])\n",
    "        \n",
    "#         #th\n",
    "        \n",
    "#         features = label.loc[label != \"negative\"]\n",
    "#         return features\n",
    "    def read_data(self, filepath):\n",
    "        colums = [\"Sex\",\"Length\",\"Diameter\", \"Height\", \"Whole_weight\", \"Shucked_weight\", \"Viscera_weight\", \n",
    "                    \"Shell_weight\", \"Class\"]\n",
    "        data = pd.read_csv(filepath, names=colums)\n",
    "        data = pd.DataFrame(data)\n",
    "#         data[\"Class\"] = data[\"Class\"].str.strip()\n",
    "        self.data = np.array(data)\n",
    "        for i in range(self.data.shape[0]):\n",
    "            self.data[i, 8] = self.data[i, 8].strip()\n",
    "    \n",
    "        return\n",
    "\n",
    "    def pre_process_undersample(self, k, label):\n",
    "\n",
    "        undersampled_data = np.array([])\n",
    "        label_index = []\n",
    "\n",
    "        #select indexes of rows with specified label\n",
    "        for row in range(self.data.shape[0]):\n",
    "            if self.data[row, 8] == label:\n",
    "                label_index.append(row)\n",
    "\n",
    "        random_remove = random.sample(label_index, k)\n",
    "\n",
    "        for i in range(self.data.shape[0]):\n",
    "            if i not in random_remove:\n",
    "                if len(undersampled_data) == 0:\n",
    "                    undersampled_data = self.data[i, :].copy()\n",
    "                else:\n",
    "                    undersampled_data = np.vstack((undersampled_data, self.data[i, :]))\n",
    "\n",
    "        return undersampled_data\n",
    "\n",
    "    def pre_process_oversample(self, k, label):\n",
    "        oversampled_data = self.data.copy()\n",
    "        label_index = []\n",
    "\n",
    "        for row in range(self.data.shape[0]):\n",
    "            if self.data[row, 8] == label:\n",
    "                label_index.append(row)\n",
    "\n",
    "        for i in range(k):\n",
    "            index = label_index[random.randint(0, (len(label_index)-1))]\n",
    "            item = self.data[index]\n",
    "\n",
    "            oversampled_data = np.vstack((oversampled_data, item))\n",
    "        \n",
    "        return oversampled_data\n",
    "\n",
    "    def euclidean_distance(self, point1, point2):\n",
    "        print(point1)\n",
    "        print(point2)\n",
    "        total = 0\n",
    "#         if type(point1) == str:\n",
    "#             point1 = float(point1)\n",
    "#         if type(point2) == str:\n",
    "#             point2 = float(point2)   \n",
    "            \n",
    "        for i in range(len(point1)):\n",
    "            total = total + pow(point1[i] + point2[i], 2)\n",
    "\n",
    "        return math.sqrt(total)\n",
    "\n",
    "    def smote(self, k, label):\n",
    "        data = self.data.copy()\n",
    "        label_index = []\n",
    "\n",
    "        for row in range(self.data.shape[0]):\n",
    "            if self.data[row, 8] == label:\n",
    "                label_index.append(row)\n",
    "        \n",
    "        for i in range(k):\n",
    "            rand_item = label_index[random.randint(0, (len(label_index) - 1))]\n",
    "\n",
    "            #KNN\n",
    "            distances = []\n",
    "            distance_index = []\n",
    "\n",
    "            for item in label_index:\n",
    "                if item == rand_item:\n",
    "                    continue\n",
    "                \n",
    "                distances.append(self.euclidean_distance(self.data[item], self.data[rand_item]))\n",
    "                distance_index.append(item)\n",
    "\n",
    "            k_neigh = []\n",
    "\n",
    "            for neigh in range(2):\n",
    "                nearest = np.argmin(distances)\n",
    "                k_neigh.append(distance_index[nearest])\n",
    "                distances[nearest] = float(\"inf\")\n",
    "            \n",
    "            neigh_rand = k_neigh[random.randint(0, (len(k_neigh) - 1))]\n",
    "\n",
    "            feat = []\n",
    "            for j in range(7):\n",
    "                col = self.data[neigh_rand, j] - self.data[rand_item, j]\n",
    "                feat.append(col)\n",
    "            \n",
    "            alpha = random.random()\n",
    "\n",
    "            all_feat = []\n",
    "\n",
    "            for j in range(len(feat)):\n",
    "                col = self.data[rand_item, j] + alpha*feat[j]\n",
    "                all_feat.append(col)\n",
    "            \n",
    "            all_feat.append(label)\n",
    "\n",
    "            data = np.vstack((data, all_feat))\n",
    "\n",
    "        return data"
   ]
  },
  {
   "cell_type": "code",
   "execution_count": 228,
   "metadata": {
    "scrolled": true
   },
   "outputs": [
    {
     "name": "stdout",
     "output_type": "stream",
     "text": [
      "Negative:  4142\n",
      "Positive:  32\n"
     ]
    }
   ],
   "source": [
    "abalone = ClassImbalance()\n",
    "abalone.read_data(\"/Users/oyinlola/Desktop/MSc Data Science/SCC403 - Data Mining/Coursework/abalone19.csv\")\n",
    "\n",
    "\n",
    "negative, positive = 0, 0\n",
    "for i in range(abalone.data.shape[0]):\n",
    "    if abalone.data[i, 8] == \"negative\":\n",
    "        negative += 1\n",
    "    elif abalone.data[i, 8] == \"positive\":\n",
    "        positive += 1\n",
    "\n",
    "print(\"Negative: \", negative)\n",
    "print(\"Positive: \", positive)"
   ]
  },
  {
   "cell_type": "code",
   "execution_count": 229,
   "metadata": {
    "scrolled": true
   },
   "outputs": [],
   "source": [
    "undersampled = abalone.pre_process_undersample(4110, \"negative\")\n",
    "oversampled = abalone.pre_process_oversample(4110, \"positive\")\n"
   ]
  },
  {
   "cell_type": "code",
   "execution_count": 231,
   "metadata": {
    "scrolled": false
   },
   "outputs": [],
   "source": [
    "# smoted = abalone.smote(4110, \"positive\")"
   ]
  },
  {
   "cell_type": "code",
   "execution_count": 218,
   "metadata": {
    "scrolled": true
   },
   "outputs": [
    {
     "data": {
      "text/plain": [
       "array([['F', 0.55, 0.44, 0.15, 0.8945, 0.3145, 0.151, 0.32, 'positive'],\n",
       "       ['F', 0.68, 0.55, 0.175, 1.798, 0.815, 0.3925, 0.455, 'positive'],\n",
       "       ['F', 0.4, 0.32, 0.11, 0.353, 0.1405, 0.0985, 0.1, 'negative'],\n",
       "       ['M', 0.595, 0.465, 0.175, 1.115, 0.4015, 0.254, 0.39, 'negative'],\n",
       "       ['M', 0.7, 0.535, 0.16, 1.7255, 0.63, 0.2635, 0.54, 'positive'],\n",
       "       ['M', 0.56, 0.45, 0.185, 1.07, 0.3805, 0.175, 0.41, 'positive'],\n",
       "       ['F', 0.635, 0.505, 0.17, 1.415, 0.605, 0.297, 0.365, 'negative'],\n",
       "       ['F', 0.565, 0.455, 0.175, 1.013, 0.342, 0.207, 0.35, 'positive'],\n",
       "       ['M', 0.595, 0.455, 0.195, 1.3305, 0.4595, 0.3235, 0.345,\n",
       "        'positive'],\n",
       "       ['M', 0.63, 0.515, 0.16, 1.016, 0.4215, 0.244, 0.355, 'positive'],\n",
       "       ['F', 0.66, 0.565, 0.195, 1.7605, 0.6920000000000001, 0.3265, 0.5,\n",
       "        'negative'],\n",
       "       ['F', 0.68, 0.58, 0.2, 1.787, 0.585, 0.45299999999999996, 0.6,\n",
       "        'positive'],\n",
       "       ['M', 0.6, 0.5, 0.16, 1.015, 0.3995, 0.1735, 0.33, 'positive'],\n",
       "       ['F', 0.505, 0.425, 0.14, 0.85, 0.275, 0.1625, 0.285, 'positive'],\n",
       "       ['F', 0.58, 0.46, 0.15, 0.9955, 0.429, 0.212, 0.26, 'positive'],\n",
       "       ['F', 0.605, 0.485, 0.165, 1.0105, 0.435, 0.209, 0.3, 'positive'],\n",
       "       ['F', 0.645, 0.525, 0.19, 1.4635, 0.6615, 0.3435, 0.435,\n",
       "        'positive'],\n",
       "       ['F', 0.66, 0.52, 0.18, 1.514, 0.526, 0.2975, 0.42, 'positive'],\n",
       "       ['F', 0.59, 0.45, 0.16, 0.9, 0.358, 0.156, 0.315, 'positive'],\n",
       "       ['F', 0.555, 0.435, 0.165, 0.97, 0.336, 0.2315, 0.295, 'negative'],\n",
       "       ['I', 0.45, 0.355, 0.12, 0.41200000000000003, 0.1145, 0.0665,\n",
       "        0.16, 'positive'],\n",
       "       ['F', 0.53, 0.41, 0.165, 0.8115, 0.24, 0.16899999999999998, 0.24,\n",
       "        'positive'],\n",
       "       ['M', 0.49, 0.39, 0.15, 0.573, 0.225, 0.124, 0.17, 'negative'],\n",
       "       ['M', 0.535, 0.405, 0.185, 0.8345, 0.3175, 0.1725, 0.29,\n",
       "        'negative'],\n",
       "       ['M', 0.47, 0.37, 0.18, 0.51, 0.1915, 0.1285, 0.1625, 'negative'],\n",
       "       ['F', 0.675, 0.565, 0.195, 1.8375, 0.7645, 0.3615,\n",
       "        0.5529999999999999, 'negative'],\n",
       "       ['F', 0.57, 0.445, 0.145, 0.8775, 0.41200000000000003, 0.217,\n",
       "        0.22, 'negative'],\n",
       "       ['F', 0.54, 0.42, 0.145, 0.8655, 0.4315, 0.163, 0.2175,\n",
       "        'negative'],\n",
       "       ['M', 0.685, 0.545, 0.205, 1.7925, 0.8145, 0.41600000000000004,\n",
       "        0.461, 'negative'],\n",
       "       ['M', 0.705, 0.56, 0.165, 1.675, 0.797, 0.4095,\n",
       "        0.38799999999999996, 'negative'],\n",
       "       ['I', 0.49, 0.4, 0.135, 0.624, 0.3035, 0.1285,\n",
       "        0.16899999999999998, 'negative'],\n",
       "       ['I', 0.56, 0.44, 0.13, 0.7235, 0.349, 0.149, 0.2, 'negative'],\n",
       "       ['M', 0.635, 0.5, 0.17, 1.4345, 0.611, 0.309, 0.418, 'negative'],\n",
       "       ['M', 0.5, 0.38, 0.155, 0.66, 0.2655, 0.1365, 0.215, 'positive'],\n",
       "       ['M', 0.69, 0.55, 0.2, 1.8465, 0.732, 0.47200000000000003, 0.57,\n",
       "        'positive'],\n",
       "       ['M', 0.57, 0.405, 0.16, 0.9245, 0.3445, 0.2185, 0.295,\n",
       "        'positive'],\n",
       "       ['M', 0.57, 0.45, 0.16, 0.8615, 0.3725, 0.2175, 0.255, 'negative'],\n",
       "       ['F', 0.6, 0.475, 0.18, 1.1805, 0.4345, 0.2475, 0.425, 'positive'],\n",
       "       ['M', 0.59, 0.475, 0.16, 0.9455, 0.3815, 0.184, 0.27, 'positive'],\n",
       "       ['M', 0.695, 0.57, 0.23, 1.885, 0.8665, 0.435, 0.5, 'positive'],\n",
       "       ['M', 0.54, 0.41, 0.145, 0.9890000000000001, 0.2815, 0.213, 0.355,\n",
       "        'positive'],\n",
       "       ['M', 0.64, 0.585, 0.195, 1.6469999999999998, 0.7225, 0.331,\n",
       "        0.47100000000000003, 'negative'],\n",
       "       ['F', 0.585, 0.45, 0.16, 0.9045, 0.405, 0.2215, 0.2335,\n",
       "        'negative'],\n",
       "       ['I', 0.555, 0.425, 0.13, 0.648, 0.2835, 0.133, 0.2105,\n",
       "        'negative'],\n",
       "       ['F', 0.58, 0.45, 0.15, 0.92, 0.39299999999999996, 0.212, 0.2895,\n",
       "        'negative'],\n",
       "       ['F', 0.655, 0.5, 0.205, 1.528, 0.6215, 0.3725, 0.4535,\n",
       "        'negative'],\n",
       "       ['M', 0.685, 0.51, 0.165, 1.545, 0.6859999999999999, 0.3775,\n",
       "        0.4055, 'negative'],\n",
       "       ['M', 0.585, 0.45, 0.15, 1.047, 0.4315, 0.276, 0.315, 'negative'],\n",
       "       ['F', 0.545, 0.405, 0.175, 0.98, 0.2585, 0.207, 0.38, 'negative'],\n",
       "       ['F', 0.69, 0.555, 0.205, 1.8165, 0.7785, 0.4395, 0.515,\n",
       "        'positive'],\n",
       "       ['F', 0.705, 0.555, 0.2, 1.4685, 0.4715, 0.3235, 0.52, 'positive'],\n",
       "       ['I', 0.66, 0.525, 0.18, 1.6935, 0.6025, 0.4005, 0.42, 'negative'],\n",
       "       ['F', 0.58, 0.44, 0.175, 1.073, 0.4005, 0.2345, 0.335, 'positive'],\n",
       "       ['M', 0.54, 0.405, 0.155, 0.9715, 0.3225, 0.19399999999999998,\n",
       "        0.29, 'positive'],\n",
       "       ['I', 0.31, 0.235, 0.09, 0.127, 0.048, 0.031, 0.04, 'negative'],\n",
       "       ['M', 0.545, 0.435, 0.165, 0.9955, 0.3245, 0.2665, 0.325,\n",
       "        'positive'],\n",
       "       ['M', 0.645, 0.515, 0.185, 1.4605, 0.5835, 0.3155, 0.41,\n",
       "        'positive'],\n",
       "       ['F', 0.65, 0.545, 0.185, 1.5055, 0.6565, 0.341, 0.43, 'negative'],\n",
       "       ['I', 0.285, 0.225, 0.07, 0.1005, 0.0425, 0.0185, 0.035,\n",
       "        'negative'],\n",
       "       ['I', 0.485, 0.365, 0.125, 0.426, 0.163, 0.0965, 0.151,\n",
       "        'negative'],\n",
       "       ['M', 0.68, 0.54, 0.195, 1.7825, 0.5565, 0.3235, 0.4285,\n",
       "        'negative'],\n",
       "       ['F', 0.46, 0.365, 0.115, 0.4485, 0.165, 0.083, 0.17, 'negative'],\n",
       "       ['M', 0.525, 0.395, 0.165, 0.782, 0.285, 0.1405, 0.285,\n",
       "        'positive'],\n",
       "       ['I', 0.52, 0.39, 0.14, 0.7325, 0.2415, 0.14400000000000002, 0.26,\n",
       "        'positive']], dtype=object)"
      ]
     },
     "execution_count": 218,
     "metadata": {},
     "output_type": "execute_result"
    }
   ],
   "source": [
    "len(undersampled)\n",
    "undersampled"
   ]
  },
  {
   "cell_type": "code",
   "execution_count": 220,
   "metadata": {},
   "outputs": [
    {
     "data": {
      "text/plain": [
       "array([['M', 0.455, 0.365, ..., 0.10099999999999999, 0.15, 'negative'],\n",
       "       ['M', 0.35, 0.265, ..., 0.0485, 0.07, 'negative'],\n",
       "       ['F', 0.53, 0.42, ..., 0.1415, 0.21, 'negative'],\n",
       "       ...,\n",
       "       ['M', 0.6, 0.5, ..., 0.1735, 0.33, 'positive'],\n",
       "       ['I', 0.45, 0.355, ..., 0.0665, 0.16, 'positive'],\n",
       "       ['M', 0.5, 0.38, ..., 0.1365, 0.215, 'positive']], dtype=object)"
      ]
     },
     "execution_count": 220,
     "metadata": {},
     "output_type": "execute_result"
    }
   ],
   "source": [
    "len(oversampled)\n",
    "oversampled"
   ]
  },
  {
   "cell_type": "code",
   "execution_count": 203,
   "metadata": {},
   "outputs": [
    {
     "data": {
      "text/plain": [
       "'positive'"
      ]
     },
     "execution_count": 203,
     "metadata": {},
     "output_type": "execute_result"
    }
   ],
   "source": [
    "abalone.data[2200, 8]"
   ]
  },
  {
   "cell_type": "code",
   "execution_count": 232,
   "metadata": {},
   "outputs": [],
   "source": [
    "df = pd.DataFrame(abalone.data)"
   ]
  },
  {
   "cell_type": "code",
   "execution_count": 238,
   "metadata": {},
   "outputs": [
    {
     "name": "stdout",
     "output_type": "stream",
     "text": [
      "<class 'pandas.core.frame.DataFrame'>\n",
      "RangeIndex: 4174 entries, 0 to 4173\n",
      "Data columns (total 9 columns):\n",
      "0    4174 non-null object\n",
      "1    4174 non-null object\n",
      "2    4174 non-null object\n",
      "3    4174 non-null object\n",
      "4    4174 non-null object\n",
      "5    4174 non-null object\n",
      "6    4174 non-null object\n",
      "7    4174 non-null object\n",
      "8    4174 non-null object\n",
      "dtypes: object(9)\n",
      "memory usage: 293.6+ KB\n"
     ]
    }
   ],
   "source": [
    "df.info()"
   ]
  },
  {
   "cell_type": "code",
   "execution_count": 244,
   "metadata": {},
   "outputs": [
    {
     "data": {
      "text/html": [
       "<div>\n",
       "<style scoped>\n",
       "    .dataframe tbody tr th:only-of-type {\n",
       "        vertical-align: middle;\n",
       "    }\n",
       "\n",
       "    .dataframe tbody tr th {\n",
       "        vertical-align: top;\n",
       "    }\n",
       "\n",
       "    .dataframe thead th {\n",
       "        text-align: right;\n",
       "    }\n",
       "</style>\n",
       "<table border=\"1\" class=\"dataframe\">\n",
       "  <thead>\n",
       "    <tr style=\"text-align: right;\">\n",
       "      <th></th>\n",
       "      <th>0</th>\n",
       "      <th>1</th>\n",
       "      <th>2</th>\n",
       "      <th>3</th>\n",
       "      <th>4</th>\n",
       "      <th>5</th>\n",
       "      <th>6</th>\n",
       "      <th>7</th>\n",
       "      <th>8</th>\n",
       "    </tr>\n",
       "  </thead>\n",
       "  <tbody>\n",
       "    <tr>\n",
       "      <th>count</th>\n",
       "      <td>4174</td>\n",
       "      <td>4174.000</td>\n",
       "      <td>4174.00</td>\n",
       "      <td>4174.00</td>\n",
       "      <td>4174.0000</td>\n",
       "      <td>4174.000</td>\n",
       "      <td>4174.0000</td>\n",
       "      <td>4174.000</td>\n",
       "      <td>4174</td>\n",
       "    </tr>\n",
       "    <tr>\n",
       "      <th>unique</th>\n",
       "      <td>3</td>\n",
       "      <td>134.000</td>\n",
       "      <td>111.00</td>\n",
       "      <td>51.00</td>\n",
       "      <td>2428.0000</td>\n",
       "      <td>1514.000</td>\n",
       "      <td>880.0000</td>\n",
       "      <td>926.000</td>\n",
       "      <td>2</td>\n",
       "    </tr>\n",
       "    <tr>\n",
       "      <th>top</th>\n",
       "      <td>M</td>\n",
       "      <td>0.625</td>\n",
       "      <td>0.45</td>\n",
       "      <td>0.15</td>\n",
       "      <td>0.2225</td>\n",
       "      <td>0.175</td>\n",
       "      <td>0.1715</td>\n",
       "      <td>0.275</td>\n",
       "      <td>negative</td>\n",
       "    </tr>\n",
       "    <tr>\n",
       "      <th>freq</th>\n",
       "      <td>1526</td>\n",
       "      <td>94.000</td>\n",
       "      <td>139.00</td>\n",
       "      <td>267.00</td>\n",
       "      <td>8.0000</td>\n",
       "      <td>11.000</td>\n",
       "      <td>15.0000</td>\n",
       "      <td>43.000</td>\n",
       "      <td>4142</td>\n",
       "    </tr>\n",
       "  </tbody>\n",
       "</table>\n",
       "</div>"
      ],
      "text/plain": [
       "           0         1        2        3          4         5          6  \\\n",
       "count   4174  4174.000  4174.00  4174.00  4174.0000  4174.000  4174.0000   \n",
       "unique     3   134.000   111.00    51.00  2428.0000  1514.000   880.0000   \n",
       "top        M     0.625     0.45     0.15     0.2225     0.175     0.1715   \n",
       "freq    1526    94.000   139.00   267.00     8.0000    11.000    15.0000   \n",
       "\n",
       "               7         8  \n",
       "count   4174.000      4174  \n",
       "unique   926.000         2  \n",
       "top        0.275  negative  \n",
       "freq      43.000      4142  "
      ]
     },
     "execution_count": 244,
     "metadata": {},
     "output_type": "execute_result"
    }
   ],
   "source": [
    "df.describe()"
   ]
  },
  {
   "cell_type": "code",
   "execution_count": 242,
   "metadata": {},
   "outputs": [],
   "source": [
    "new_df = df.drop([0], axis=1)"
   ]
  },
  {
   "cell_type": "code",
   "execution_count": 247,
   "metadata": {},
   "outputs": [
    {
     "data": {
      "text/plain": [
       "count     4174.000\n",
       "unique     134.000\n",
       "top          0.625\n",
       "freq        94.000\n",
       "Name: 1, dtype: float64"
      ]
     },
     "execution_count": 247,
     "metadata": {},
     "output_type": "execute_result"
    }
   ],
   "source": [
    "new_df[1].describe()"
   ]
  },
  {
   "cell_type": "code",
   "execution_count": null,
   "metadata": {},
   "outputs": [],
   "source": []
  }
 ],
 "metadata": {
  "kernelspec": {
   "display_name": "Python 3",
   "language": "python",
   "name": "python3"
  },
  "language_info": {
   "codemirror_mode": {
    "name": "ipython",
    "version": 3
   },
   "file_extension": ".py",
   "mimetype": "text/x-python",
   "name": "python",
   "nbconvert_exporter": "python",
   "pygments_lexer": "ipython3",
   "version": "3.6.5"
  }
 },
 "nbformat": 4,
 "nbformat_minor": 2
}
